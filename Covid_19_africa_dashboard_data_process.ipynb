{
 "cells": [
  {
   "cell_type": "code",
   "execution_count": 1,
   "id": "1bd8d24d",
   "metadata": {},
   "outputs": [],
   "source": [
    "import pandas as pd\n",
    "import bamboolib as bam"
   ]
  },
  {
   "cell_type": "code",
   "execution_count": 2,
   "id": "9e774ced",
   "metadata": {},
   "outputs": [],
   "source": [
    "url_confirmed = 'https://raw.githubusercontent.com/CSSEGISandData/COVID-19/master/csse_covid_19_data/csse_covid_19_time_series/time_series_covid19_confirmed_global.csv'\n",
    "url_deaths = 'https://raw.githubusercontent.com/CSSEGISandData/COVID-19/master/csse_covid_19_data/csse_covid_19_time_series/time_series_covid19_deaths_global.csv'\n",
    "url_recovered = 'https://raw.githubusercontent.com/CSSEGISandData/COVID-19/master/csse_covid_19_data/csse_covid_19_time_series/time_series_covid19_recovered_global.csv'\n"
   ]
  },
  {
   "cell_type": "code",
   "execution_count": 3,
   "id": "e6514eb8",
   "metadata": {},
   "outputs": [],
   "source": [
    "confirmed = pd.read_csv(url_confirmed)\n",
    "deaths = pd.read_csv(url_deaths)\n",
    "recovered = pd.read_csv(url_recovered)"
   ]
  },
  {
   "cell_type": "code",
   "execution_count": 4,
   "id": "90b71ea2",
   "metadata": {},
   "outputs": [],
   "source": [
    "# Unpivot data frames\n",
    "date1 = confirmed.columns[4:]\n",
    "total_confirmed = confirmed.melt(id_vars=['Province/State', 'Country/Region', 'Lat', 'Long'], value_vars=date1, var_name='date', value_name='confirmed')\n",
    "date2 = deaths.columns[4:]\n",
    "total_deaths = deaths.melt(id_vars=['Province/State', 'Country/Region', 'Lat', 'Long'], value_vars=date2, var_name='date', value_name='death')\n",
    "date3 = recovered.columns[4:]\n",
    "total_recovered = recovered.melt(id_vars=['Province/State', 'Country/Region', 'Lat', 'Long'], value_vars=date3, var_name='date', value_name='recovered')\n"
   ]
  },
  {
   "cell_type": "code",
   "execution_count": 5,
   "id": "69f33dad",
   "metadata": {},
   "outputs": [],
   "source": [
    "#merging dataframes\n",
    "covid_data = total_confirmed.merge(right = total_deaths, how = 'left', on = ['Province/State', 'Country/Region', 'date', 'Lat', 'Long'])\n",
    "covid_data = covid_data.merge(right = total_recovered, how = 'left', on = ['Province/State', 'Country/Region', 'date', 'Lat', 'Long'])"
   ]
  },
  {
   "cell_type": "code",
   "execution_count": 6,
   "id": "c61094de",
   "metadata": {},
   "outputs": [],
   "source": [
    "# Converting date column from string to proper date format\n",
    "covid_data['date'] = pd.to_datetime(covid_data['date'])\n"
   ]
  },
  {
   "cell_type": "code",
   "execution_count": 7,
   "id": "5a860225",
   "metadata": {},
   "outputs": [],
   "source": [
    "covid_data = covid_data.drop(columns=['Province/State', 'recovered'])"
   ]
  },
  {
   "cell_type": "code",
   "execution_count": 8,
   "id": "dd693623",
   "metadata": {},
   "outputs": [],
   "source": [
    "covid_data_1 = covid_data.groupby(['date'])[['confirmed', 'death',]].sum().reset_index()"
   ]
  },
  {
   "cell_type": "code",
   "execution_count": 9,
   "id": "e86e0dec",
   "metadata": {},
   "outputs": [],
   "source": [
    "covid_data_africa = covid_data.loc[covid_data['Country/Region'].isin(['Algeria', 'Angola', 'Benin', 'Burkina Faso', 'Burundi', 'Cabo Verde', 'Cameroon', 'Central African Republic', 'Chad', 'Comoros', 'Congo (Brazzaville)', 'Congo (Kinshasa)', \"Cote d\\\\'Ivoire\", 'Djibouti', 'Egypt', 'Equatorial Guinea', 'Eritrea', 'Eswatini', 'Ethiopia', 'Gabon', 'Gambia', 'Ghana', 'Guinea', 'Guinea-Bissau', 'Kenya', 'Liberia', 'Libya', 'Lesotho', 'Madagascar', 'Malawi', 'Mali', 'Mauritania', 'Mauritius', 'Morocco', 'Mozambique', 'Namibia', 'Niger', 'Nigeria', 'Rwanda', 'Sao Tome and Principe', 'Senegal', 'Seychelles', 'Sierra Leone', 'Somalia', 'South Africa', 'South Sudan', 'Sudan', 'Tanzania', 'Togo', 'Tunisia', 'Zambia', 'Zimbabwe'])]\n"
   ]
  },
  {
   "cell_type": "code",
   "execution_count": 15,
   "id": "1bf34b83",
   "metadata": {},
   "outputs": [],
   "source": [
    "covid_data_afr_1 = covid_data_africa.groupby(['date'])[['confirmed', 'death']].sum().reset_index()"
   ]
  },
  {
   "cell_type": "code",
   "execution_count": 16,
   "id": "e6804704",
   "metadata": {},
   "outputs": [
    {
     "data": {
      "application/vnd.jupyter.widget-view+json": {
       "model_id": "3c864e4bd50945eab30790dc608f4a60"
      },
      "text/plain": [
       "          date  confirmed   death\n",
       "0   2020-01-22          0       0\n",
       "1   2020-01-23          0       0\n",
       "2   2020-01-24          0       0\n",
       "3   2020-01-25          0       0\n",
       "4   2020-01-26          0       0\n",
       "..         ...        ...     ...\n",
       "990 2022-10-08   11777434  249548\n",
       "991 2022-10-09   11777996  249548\n",
       "992 2022-10-10   11778951  249550\n",
       "993 2022-10-11   11780192  249553\n",
       "994 2022-10-12   11780887  249554\n",
       "\n",
       "[995 rows x 3 columns]"
      ]
     },
     "metadata": {},
     "output_type": "display_data"
    }
   ],
   "source": [
    "covid_data_afr_1"
   ]
  },
  {
   "cell_type": "code",
   "execution_count": 10,
   "id": "76c3534f",
   "metadata": {},
   "outputs": [],
   "source": [
    "#Make a dict of Locations\n",
    "\n",
    "covid_data_list = covid_data[['Country/Region', 'Lat', 'Long']]\n",
    "dict_of_locations = covid_data_list.set_index('Country/Region')[['Lat', 'Long']].T.to_dict('dict')"
   ]
  },
  {
   "cell_type": "code",
   "execution_count": 13,
   "id": "8efafb6a",
   "metadata": {},
   "outputs": [],
   "source": [
    "#african dict of locations\n",
    "covid_data_africa_list = covid_data_africa[['Country/Region', 'Lat', 'Long']]\n",
    "dict_of_locations_afr = covid_data_africa_list.set_index('Country/Region')[['Lat','Long']].T.to_dict('dict') "
   ]
  },
  {
   "cell_type": "code",
   "execution_count": null,
   "id": "bd55a33f",
   "metadata": {},
   "outputs": [],
   "source": []
  }
 ],
 "metadata": {
  "kernelspec": {
   "display_name": "Python 3",
   "language": "python",
   "name": "python3"
  },
  "language_info": {
   "codemirror_mode": {
    "name": "ipython",
    "version": 3
   },
   "file_extension": ".py",
   "mimetype": "text/x-python",
   "name": "python",
   "nbconvert_exporter": "python",
   "pygments_lexer": "ipython3",
   "version": "3.7.7"
  },
  "nbTranslate": {
   "displayLangs": [
    "*"
   ],
   "hotkey": "alt-t",
   "langInMainMenu": true,
   "sourceLang": "fr",
   "targetLang": "en",
   "useGoogleTranslate": true
  }
 },
 "nbformat": 4,
 "nbformat_minor": 5
}
